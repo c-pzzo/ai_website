{
 "cells": [
  {
   "cell_type": "markdown",
   "metadata": {},
   "source": [
    "# About\n",
    "Notebook containing workflow for LLM Web Scraping with "
   ]
  },
  {
   "cell_type": "markdown",
   "metadata": {},
   "source": [
    "# Libraries"
   ]
  },
  {
   "cell_type": "code",
   "execution_count": 10,
   "metadata": {},
   "outputs": [],
   "source": [
    "from scrapegraphai.graphs import SmartScraperGraph\n",
    "import nest_asyncio\n",
    "import playwright\n",
    "\n",
    "import os\n",
    "from dotenv import load_dotenv"
   ]
  },
  {
   "cell_type": "code",
   "execution_count": 5,
   "metadata": {},
   "outputs": [],
   "source": [
    "nest_asyncio.apply()"
   ]
  },
  {
   "cell_type": "markdown",
   "metadata": {},
   "source": [
    "# API"
   ]
  },
  {
   "cell_type": "code",
   "execution_count": 8,
   "metadata": {},
   "outputs": [
    {
     "name": "stdout",
     "output_type": "stream",
     "text": [
      "{\n",
      "  \"ip\": \"187.209.131.160\",\n",
      "  \"hostname\": \"dsl-187-209-131-160-dyn.prod-infinitum.com.mx\",\n",
      "  \"city\": \"San Pedro Garza García\",\n",
      "  \"region\": \"Nuevo León\",\n",
      "  \"country\": \"MX\",\n",
      "  \"loc\": \"25.6604,-100.4065\",\n",
      "  \"org\": \"AS8151 UNINET\",\n",
      "  \"postal\": \"66210\",\n",
      "  \"timezone\": \"America/Monterrey\",\n",
      "  \"readme\": \"https://ipinfo.io/missingauth\"\n",
      "}"
     ]
    }
   ],
   "source": [
    "!curl ipinfo.io"
   ]
  },
  {
   "cell_type": "code",
   "execution_count": 12,
   "metadata": {},
   "outputs": [],
   "source": [
    "load_dotenv()\n",
    "GEMINI_API_KEY = os.getenv('GOOGLE_AI_API_KEY')"
   ]
  }
 ],
 "metadata": {
  "kernelspec": {
   "display_name": "ai_apps",
   "language": "python",
   "name": "python3"
  },
  "language_info": {
   "codemirror_mode": {
    "name": "ipython",
    "version": 3
   },
   "file_extension": ".py",
   "mimetype": "text/x-python",
   "name": "python",
   "nbconvert_exporter": "python",
   "pygments_lexer": "ipython3",
   "version": "3.11.8"
  }
 },
 "nbformat": 4,
 "nbformat_minor": 2
}
