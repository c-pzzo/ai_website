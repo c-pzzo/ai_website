{
 "cells": [
  {
   "cell_type": "markdown",
   "id": "b98171d2-6c79-46ee-8e7c-96634357dca7",
   "metadata": {},
   "source": [
    "---\n",
    "# Libraries"
   ]
  },
  {
   "cell_type": "code",
   "execution_count": 1,
   "id": "ae21176b-9605-4222-96ee-bb5738d4679c",
   "metadata": {},
   "outputs": [],
   "source": [
    "import os\n",
    "import glob\n",
    "import json\n",
    "import numpy as np\n",
    "import pandas as pd\n",
    "\n",
    "\n",
    "import openai\n",
    "from openai import OpenAI\n",
    "\n",
    "import google.generativeai as genai\n",
    "\n",
    "import requests\n",
    "from PIL import Image, ImageDraw, ImageFont\n",
    "from io import BytesIO\n",
    "\n",
    "import textwrap"
   ]
  },
  {
   "cell_type": "markdown",
   "id": "0e1252d4-88ad-4fa0-a3fd-8b55f804741c",
   "metadata": {},
   "source": [
    "---\n",
    "# User-Defined Functions"
   ]
  },
  {
   "cell_type": "markdown",
   "id": "ee0204dd-6c02-48bf-8832-5326be60975e",
   "metadata": {},
   "source": [
    "## ■ API functions"
   ]
  },
  {
   "cell_type": "code",
   "execution_count": 2,
   "id": "c8febc50-fba8-44cf-9d5d-87d05f50e106",
   "metadata": {},
   "outputs": [],
   "source": [
    "def openai_api_test(openai_api_key):\n",
    "\n",
    "    os.environ[\"OPENAI_API_KEY\"] = openai_api_key\n",
    "    client = OpenAI(api_key=os.environ.get(\"OPENAI_API_KEY\"))\n",
    "    \n",
    "    try:    \n",
    "        chat_completion = client.chat.completions.create(\n",
    "            messages=[\n",
    "                {\n",
    "                    \"role\": \"user\",\n",
    "                    \"content\": \"Return 'Ok'\",\n",
    "                }\n",
    "            ],\n",
    "            model=\"gpt-3.5-turbo\",\n",
    "        )\n",
    "        return chat_completion.to_dict()[\"choices\"][0][\"message\"][\"content\"]\n",
    "        \n",
    "    except Exception as e:\n",
    "        return e    "
   ]
  },
  {
   "cell_type": "code",
   "execution_count": 3,
   "id": "58e659bb-1abf-4372-af6c-9d6f5915c879",
   "metadata": {},
   "outputs": [],
   "source": [
    "def google_api_test(googleai_api_key):\n",
    "    \n",
    "    genai.configure(api_key=googleai_api_key)\n",
    "    \n",
    "    genai_model = genai.GenerativeModel(\n",
    "        model_name='models/gemini-1.5-pro-latest',\n",
    "    )\n",
    "\n",
    "    try:\n",
    "        response = genai_model.generate_content(\"Return: 'Ok'\")\n",
    "        return response.candidates[0].content.parts[0].text.replace(\" \\n\", \"\")\n",
    "        \n",
    "    except Exception as e:\n",
    "        return e"
   ]
  },
  {
   "cell_type": "markdown",
   "id": "adb34d21-8772-43fe-829e-23ff8d3bda63",
   "metadata": {},
   "source": [
    "## ■ GoogleAI responses"
   ]
  },
  {
   "cell_type": "markdown",
   "id": "c6826c20-d28d-47b4-ab5e-89d63c586644",
   "metadata": {},
   "source": [
    "### > Text-to-text"
   ]
  },
  {
   "cell_type": "code",
   "execution_count": 4,
   "id": "b1918b0f-0832-465f-84a9-169e1ce9f507",
   "metadata": {},
   "outputs": [],
   "source": [
    "def t2t(text):\n",
    "    response = genai_model.generate_content(text)\n",
    "    \n",
    "    return response.text"
   ]
  },
  {
   "cell_type": "markdown",
   "id": "c4eb99f2-0e78-40d8-a08a-76e4ebe85127",
   "metadata": {},
   "source": [
    "### > Image-to-text"
   ]
  },
  {
   "cell_type": "code",
   "execution_count": 5,
   "id": "c4633ee5-c0ce-4929-9440-85806b44030d",
   "metadata": {},
   "outputs": [],
   "source": [
    "def i2t(img):\n",
    "    \"\"\"\n",
    "    image to text\n",
    "    \"\"\"\n",
    "    response = genai_model.generate_content(img)\n",
    "    \n",
    "    return response.text"
   ]
  },
  {
   "cell_type": "markdown",
   "id": "30224886-e2f8-4492-96c8-80fb8371e4c0",
   "metadata": {},
   "source": [
    "### > Text & Image-to-text"
   ]
  },
  {
   "cell_type": "code",
   "execution_count": 6,
   "id": "a60dfb47-6e51-4d7a-8159-71797db4b436",
   "metadata": {},
   "outputs": [],
   "source": [
    "def ti2t(text, img):\n",
    "    \"\"\"\n",
    "    The generate_content method can handle a wide variety of use cases depending on what the underlying model supports, including:\n",
    "    * multi-turn chat\n",
    "    * multimodal input. \n",
    "    \n",
    "    The available models only support text and images as input, and text as output.\n",
    "    \"\"\"\n",
    "    response = genai_model.generate_content([text, img])\n",
    "    \n",
    "    return response.text"
   ]
  },
  {
   "cell_type": "markdown",
   "id": "f46b8325-9d16-48c8-bf89-688e5543e2a2",
   "metadata": {},
   "source": [
    "## ■ OpenAI (Dall-E) responses"
   ]
  },
  {
   "cell_type": "markdown",
   "id": "dcae42d4-564d-406a-b788-33cf13a71c9c",
   "metadata": {},
   "source": [
    "### > Text-to-image"
   ]
  },
  {
   "cell_type": "code",
   "execution_count": 7,
   "id": "d0806d5a-14de-455d-a231-020c17489e5d",
   "metadata": {},
   "outputs": [],
   "source": [
    "def get_image_from_DALL_E_3_API(user_prompt,\n",
    "                               image_dimension=\"1024x1024\",\n",
    "                               image_quality=\"hd\", #\"standard\"\n",
    "                               model=\"dall-e-3\",\n",
    "                               nb_final_image=1):\n",
    "   response = client.images.generate(\n",
    "     model = model,\n",
    "     prompt = user_prompt,\n",
    "     size = image_dimension,\n",
    "     quality = image_quality,\n",
    "     n=nb_final_image,\n",
    "   )\n",
    "\n",
    "\n",
    "   image_url = response.data[0].url\n",
    "  \n",
    "   display(Image(url=image_url))"
   ]
  },
  {
   "cell_type": "markdown",
   "id": "ffe7d930-a0a5-4f3f-94db-ffadcbd0a70a",
   "metadata": {},
   "source": [
    "Pricing details\n",
    "\n",
    "The pricing details are provided for each one of the DALL-E versions. As we can see, only DALL-E 3 provides standard and high-definition image qualities and their corresponding resolutions.\n",
    "\n",
    "| Model | Quality | Resolution | Price per image (in US$) |\n",
    "|---|---|---|---|\n",
    "| DALL-E | Standard | 1024x1024 | 0.13 |\n",
    "| DALL-E 2 |  | 1024×1024 | 0.020 |\n",
    "| |  | 512x512 | 0.018 |\n",
    "| |  | 256x256 | 0.016 |\n",
    "| DALL-E 3 | Standard | 1024x1024 | 0.040 |\n",
    "| |  | 1024×1792, 1792×1024 | 0.080 |\n",
    "|  | HD | 1024x1024 | 0.080 |\n",
    "| |  | 1024×1792, 1792×1024 | 0.120 |"
   ]
  },
  {
   "cell_type": "markdown",
   "id": "d3879a6c-5c69-429f-aa6c-619e65dd6e21",
   "metadata": {},
   "source": [
    "## ■ JSON Parser"
   ]
  },
  {
   "cell_type": "code",
   "execution_count": 8,
   "id": "4327ad76-4dc3-488f-861f-936e399190f3",
   "metadata": {},
   "outputs": [],
   "source": [
    "def dummy_json_parser(model, prompt):\n",
    "    # Dummy function for text to JSON parser\n",
    "    parser = model(prompt)\n",
    "    parser = parser.replace(\"\\n\", \"\")\n",
    "    parser = parser.replace(\"json{\", \"{\")\n",
    "    parser = parser.replace(\"```\", \"\")\n",
    "    return json.loads(parser)"
   ]
  },
  {
   "cell_type": "markdown",
   "id": "1d600424-58d0-48a4-b39d-3362aec2fed5",
   "metadata": {},
   "source": [
    "## ■ Script Generation"
   ]
  },
  {
   "cell_type": "code",
   "execution_count": 9,
   "id": "e9a87cf9-8d16-43fa-83dc-7a7909789857",
   "metadata": {},
   "outputs": [],
   "source": [
    "def s0_meta_userprompt_info(user_input):\n",
    "    \"\"\"\n",
    "    Meta information from user Input.\n",
    "    The user starts with a simple story idea. This function will compile different metadata from it.\n",
    "    \"\"\"\n",
    "    \n",
    "    prompt_ui = f\"\"\"This tool analyzes and organizes elements of a statement into a JSON object. You'll provide the statement within triple ticks after the following instructions.\n",
    "    \n",
    "    The JSON response will categorize the statement based on these key-value pairs:\n",
    "    \n",
    "    main_characters: Who are the people involved? Infer the character's job and refer to them by gender and job position. (\"User\" if the implicit author of the statement is active during the statement, \"None\" if directed at \"you\", or unclear, or the implicit author of the statement just gives an instruction). Separate by commas every explicitly mentioned character. \n",
    "    place: Where does the statement take place? Separate by commas all mentioned locations (return a single \"None\" if unclear).\n",
    "    object: Separate by commas physical, real-world objects (not places, digital media). Ignore if similar to \"place\". (return a single \"None\" if unclear). (return a single \"None\" if unclear).\n",
    "    goal: Provide a detailed overall objective of the statement. If it's about creating content (video, short, TikTok, commercial), restate it as a \"short story\" for clarity.\n",
    "    genre: Infer the movie genre of the story. (Return 'Slice of life' if unclear)\n",
    "    action: What's happening? Does the object or main character have an action? Provide a JSON object with \"object_action\" and \"character_action\" keys with their respective evaluations. (Rewrite the answer for 'character_action' as 'None' when the action is related, similar, or equal to the overall objective of the statement)\n",
    "    weather: Does the statement mention any weather conditions? Separate by commas all mentioned elements (None if unclear).\n",
    "    category: The statement's category: 'Business' (transactions/solutions/business or merchandise promotion), 'Educational' (teaching), or 'Entertainment' (default). \n",
    "    restrictions: Separate by commas anything the statement says shouldn't be included. (return a a single \"None\" if unclear).\n",
    "    Now, please provide the statement for analysis within triple ticks ```{user_input}```\n",
    "    \"\"\"    \n",
    "\n",
    "    p0  = dummy_json_parser(t2t, prompt_ui)\n",
    "    \n",
    "    return p0\n",
    "    "
   ]
  },
  {
   "cell_type": "code",
   "execution_count": 10,
   "id": "fc3e9020-a4b2-4f0e-81ba-831d47a12ea4",
   "metadata": {},
   "outputs": [],
   "source": [
    "def s1_scene_treatment(p0):\n",
    "    \"\"\"\n",
    "    Scene treatment\n",
    "    The metadata compiled from the previous step will be extended into a full scene.\n",
    "    \"\"\"\n",
    "    \n",
    "    vague_idea = f\"State a single graphic narration of a plot idea. The original concept development for this story has the goal of a `{p0['goal']}` in the genre `{p0['genre']}` and with the purpose of `{p0['category']}`.  I want your input to provide a more thorough description of the concept, and to construct a narrative chain order. I want the story plot to be composed of simple places, objects, and people. to facilitate the understanding. No fantasy lands, no space, no bottom of the ocean. No fantastical elements. \"\n",
    "    \n",
    "    str = \"\" \n",
    "    \n",
    "    if \"None\" in [val for val in p0.values()]:    \n",
    "        \n",
    "        str = \"Be mindful about incorporating the following elements into the plot: \\n \"\n",
    "        \n",
    "        if p0[\"main_characters\"] == \"None\":\n",
    "            str += \"* main_characters: Define the main characters involved in the development of the story. Describe them with gender, job position, and personality traits that would move the plot forward. Give them a human name. Contain each description within a sentence. \\n \"\n",
    "        \n",
    "        if p0[\"place\"] == \"None\":\n",
    "            str += \"* place: Define a physical location where the story would make the most sense to take place. Consider any place accessible to the public, even businesses or a home. No fantastical settings. No space settings. No bottom of the sea. \\n \"\n",
    "        \n",
    "        if p0[\"object\"] == \"None\":\n",
    "            str += \"* object: Define an object that is relevant to the plot of the story. An object that facilitates reaching the goal of the story. Consider the symbolism of the object to represent an idea or quality in benefit of the evolution of the story. \\n \"\n",
    "            \n",
    "        if p0[\"weather\"] == \"None\":\n",
    "            str += \"* weather: Define the best weather conditions in tune to the mood of the story. \\n \"\n",
    "            \n",
    "        if p0[\"action\"][\"object_action\"] == \"None\":\n",
    "            str += \"* object_action: What's happening with the object? Is the object involved in any action(s)? \\n \"\n",
    "                \n",
    "        if p0[\"action\"][\"character_action\"] == \"None\":\n",
    "            str += \"* character_action: What's happening with the characters? In what actions are the characters involved? \\n \"\n",
    "            \n",
    "        if p0[\"restrictions\"] == \"None\":\n",
    "            str += \"\\n Additionally, keep the story according to PG-13 movie guidelines. \\n \"\n",
    "        \n",
    "    str += \"Remember, don't format your answer with the previous list of element. I just a straight narration with the plot for the story.\"\n",
    "    \n",
    "    main_plotline = t2t(vague_idea + str)    \n",
    "\n",
    "    return main_plotline"
   ]
  },
  {
   "cell_type": "code",
   "execution_count": 11,
   "id": "7d39f3fd-a069-482c-8382-44587298c375",
   "metadata": {},
   "outputs": [],
   "source": [
    "def s2_script_prompt(p0, main_plotline):\n",
    "    \n",
    "    scene_treatment_prompt = f\"\"\"Task: You are a comic book writer tasked with creating a script for graphic narration. This script will guide your artist collaborator in drawing each panel of the comic book. You consider the following plotline as main guideline: `{main_plotline}`.\n",
    "    \n",
    "    Starting Point: Choose a story premise that aligns with the goal of a `{p0['goal']}` in the genre `{p0['genre']}` and with the purpose of `{p0['category']}`. Here are your options:\n",
    "    \n",
    "    * \"What if?\": Explores reality-based issues and fabrications, focusing on fundamental human concerns like fear and curiosity. Teaches the audience how to handle threats.\n",
    "    * \"Let me tell you what happened to\": Relates a private event involving a relatable character, sharing intimate experiences with the audience.\n",
    "    * \"Our protagonist is thrown into this new adventure\": Features a well-defined character facing a straightforward, challenging adventure. This premise involves simple problems and one-dimensional characters.\n",
    "    * \"Have you heard about...?\": Centers around a joke that leads to an unexpected conclusion, utilizing humor techniques like irony, wordplay, and misdirection. Starts with a prologue.\n",
    "    \n",
    "    Script Framework: Structure your script as a JSON object with the following keys:\n",
    "    \n",
    "    * \"title\": Place only once an appropriate title for the story at the beginning of the JSON object.\n",
    "    * \"characters\": List characters using upper case for character names. Describe them on detail and include some background that would serve the storyline.\n",
    "    * \"settings\": Describe the settings where and when the storyline takes place. If historical context isn't provided, assume a current day setting. Characters are free to roam through multiple settings if the storyline is large. \n",
    "    * \"panels\": Array of objects, each object representing a panel in the comic. The panels should contain:\n",
    "      - \"panel_number\": Mandatory. Numeric identifier for each panel.\n",
    "      - \"panel_description\": Mandatory. Provide a detailed graphic narration of the scene, including character appearances and actions.\n",
    "      - \"characters_involved\": Make a list of the characters that are mentioned during the scene. If unclear return an empty list.\n",
    "      - \"setting_involved\": Generate a dictionary outlining the setting featured in the panel. . Each dictionary should contain three key-value pairs: \"setting\" for the setting itself, \"perspective\" for whether it's observed from an \"interior\" or \"exterior\" perspective, and \"location\" for whether it's located within a \"building\" or \"outdoor space\". Ensure to only include one of the settings that have been previously specified. \n",
    "      - \"captions\": Optional. Use \"CAPTION:\" followed by the text to add context such as time, location, or background information.\n",
    "      - \"dialogue\": Optional. Use the format 'CHARACTER NAME: dialogue text' for speaking characters. Use \"NO POINTER:\" for speaking characters not yet introduced.\n",
    "    vague_idea\n",
    "    \n",
    "    Detailed Guidelines:\n",
    "    * Panels: \n",
    "      - Visual Description: Provide detailed descriptions for the artist, covering the development of the scene, character appearances, and actions.\n",
    "      - Segmented Panels: Break the script into numbered panels, each depicting a specific action or moment.\n",
    "      - Character Development: Include detailed character descriptions such as physical appearance, attire, and personality traits. Describe character gestures that are easy to watch and understand. Utilize pantomime to vividly depict the character's actions and expressions, enhancing the narrative through silent, expressive motions.\n",
    "      - Captions Usage: Use captions to add context, such as time, location, and background information.\n",
    "      - Genre and Historical Context: Maintain consistency with the chosen genre and historical context.\n",
    "      - Emotional Engagement: Craft scenes that evoke emotions aligned with the genre, enhancing character interactions and visual storytelling.\n",
    "      - Storytelling Structure: Ensure the script follows a linear progression, integrating flashbacks or past references seamlessly when necessary.\n",
    "      - Main Storyline: Develop a compelling main storyline to guide the narrative.\n",
    "      - Character Design and Imagery: Focus on creating visually memorable characters and scenes.\n",
    "      - Dialogue and Interaction: Use dialogue to advance the plot, develop characters, and reveal relationships and motivations.\n",
    "      - Purpose: Your script should aim to meet the project’s goal, fit within the specified genre, and fulfill the intended category. When the story is educational, always rely on grounded scientific facts. Never help promote misinformation.\n",
    "    \n",
    "    \"\"\"\n",
    "    \n",
    "    main_script = dummy_json_parser(t2t, scene_treatment_prompt)\n",
    "\n",
    "    return main_script"
   ]
  },
  {
   "cell_type": "code",
   "execution_count": 12,
   "id": "80482e50-0eec-4634-8a54-9d9d5a3bfe92",
   "metadata": {},
   "outputs": [],
   "source": [
    "def s3_internal_setting_update(main_script):\n",
    "    \"\"\"\n",
    "    This function will augment with visual details about the location where the story takes place.\n",
    "    This facilitates consistent AI image prompting\n",
    "    \"\"\"\n",
    "    \n",
    "    for s in main_script[\"settings\"]:\n",
    "        setting_update = t2t(f\"Revise and elaborate on the physical description of the location `{s}` described as `{main_script['settings'][s]}`. Incorporate details such as colors, style, and historically accurate background items, including any furniture or decor present. Concentrate solely on the visual aspects without introducing any emotional elements associated with the location.\")\n",
    "        main_script[\"settings\"][s] = setting_update\n",
    "\n",
    "    return main_script"
   ]
  },
  {
   "cell_type": "code",
   "execution_count": 13,
   "id": "81c9d649-cc7c-4834-b83a-c7e860ee6911",
   "metadata": {},
   "outputs": [],
   "source": [
    "def s3_internal_character_update(main_script):\n",
    "    \"\"\"\n",
    "    This function will augment with visual details about the characters that take place in the story.\n",
    "    This facilitates consistent AI image prompting\n",
    "    \"\"\"\n",
    "    \n",
    "    for k in main_script['characters']:\n",
    "        character_update = t2t(f\"Rewrite and expand on the character description from {main_script['characters'][k]} to create a detailed physical description for an AI image prompt. Include details about the character's age, height, gender, any unique physical features, and hair (including color, style, and length) for consistent art generation. Describe their clothing style, focusing on the type and style of garments. Focus exclusively on the physical aspects without adding any background information irrelevant to the AI image prompt. Don't use any words that may trigger safety settings. Don't add accessories carried by hand.\")\n",
    "        main_script['characters'][k] = character_update\n",
    "\n",
    "    return main_script"
   ]
  },
  {
   "cell_type": "code",
   "execution_count": 14,
   "id": "32248b02-f1a3-45fe-bc33-ef8d89486a31",
   "metadata": {},
   "outputs": [],
   "source": [
    "def s4_AIimage_generation(main_script):\n",
    "    \"\"\"\n",
    "    Add new section `ai_image_prompt` with the visual descriptions defined in s3.\n",
    "    \"\"\"\n",
    "    \n",
    "    for p in main_script[\"panels\"]:\n",
    "        augment_prompt = \"Generate a hyper-realistic image based on this panel description: `\" + p[\"panel_description\"] + \"` \\n \"\n",
    "        \n",
    "        if len(p[\"characters_involved\"]) > 0:\n",
    "            augment_prompt += \"Use the character descriptions provided below as a blueprint to accurately shape and define the characters: \\n \"\n",
    "            for c in p[\"characters_involved\"]:\n",
    "                augment_prompt += \"* \" + c + \": \" + main_script[\"characters\"][c] + \"\\n\"\n",
    "        \n",
    "        if p[\"setting_involved\"][\"perspective\"] == 'interior' and p[\"setting_involved\"][\"location\"] == 'building':\n",
    "            augment_prompt += \" The panel is set in the following setting: \\n \" + \"`\" + main_script[\"settings\"][p[\"setting_involved\"][\"setting\"]] + \"` \\n\"\n",
    "    \n",
    "        p[\"ai_image_prompt\"] = augment_prompt\n",
    "\n",
    "    return main_script"
   ]
  },
  {
   "cell_type": "markdown",
   "id": "7dcc01ec-369a-4def-bb6f-5e95213b0bd4",
   "metadata": {},
   "source": [
    "## ■ Massive Image Generation"
   ]
  },
  {
   "cell_type": "code",
   "execution_count": 15,
   "id": "4885e217-e26f-4e90-874c-6aae47f0e699",
   "metadata": {},
   "outputs": [],
   "source": [
    "def truncate_prompt(prompt, max_length=3800):\n",
    "    if len(prompt) <= max_length:\n",
    "        return prompt\n",
    "    else:\n",
    "        return prompt[:max_length]"
   ]
  },
  {
   "cell_type": "code",
   "execution_count": 16,
   "id": "084af7b3-0a5e-43cf-a6f6-7721ebaa584e",
   "metadata": {},
   "outputs": [],
   "source": [
    "def AI_image_generation(main_script, i):\n",
    "    response = client.images.generate(\n",
    "     model = \"dall-e-3\",\n",
    "     prompt = truncate_prompt(main_script[\"panels\"][i][\"ai_image_prompt\"]),\n",
    "     size = \"1024x1024\",\n",
    "     quality = \"hd\",\n",
    "     n=1,\n",
    "    )\n",
    "    \n",
    "    image_url = response.data[0].url\n",
    "    \n",
    "    response = requests.get(image_url)\n",
    "    image_data = response.content\n",
    "    original_image = Image.open(BytesIO(image_data))\n",
    "\n",
    "    width, height = original_image.size \n",
    "    \n",
    "    text_to_add = \"PANEL DESCRIPTION: \" + main_script['panels'][i]['panel_description']\n",
    "    \n",
    "    # Use textwrap to break text into lines based on available width\n",
    "    lines = textwrap.wrap(text_to_add, width=150)\n",
    "    \n",
    "    captions_text = main_script.get(\"panels\", [{}])[i].get(\"captions\")\n",
    "    \n",
    "    if captions_text:\n",
    "        lines += \" \"\n",
    "        lines += textwrap.wrap(captions_text, width=150)\n",
    "    \n",
    "    dialogue_text = main_script.get(\"panels\", [{}])[i].get(\"dialogue\")\n",
    "    \n",
    "    if dialogue_text:\n",
    "        lines += \" \"\n",
    "        lines += textwrap.wrap(dialogue_text, width=150)\n",
    "    \n",
    "    top_margin = 40\n",
    "    bottom_margin = 15 * (len(lines) + 3)\n",
    "    \n",
    "    new_width = width\n",
    "    new_height = height + top_margin + bottom_margin\n",
    "    \n",
    "    # Create a new image with added top and bottom margins\n",
    "    new_width = original_image.width\n",
    "    new_height = original_image.height + top_margin + bottom_margin\n",
    "    new_image = Image.new(\"RGB\", (new_width, new_height), color=\"white\")\n",
    "    new_image.paste(original_image, (0, top_margin))\n",
    "    \n",
    "    # Add text to the top margin\n",
    "    draw = ImageDraw.Draw(new_image)\n",
    "    font = ImageFont.load_default(30)\n",
    "    \n",
    "    draw.text((10, 0), f\"Title: {main_script['title']}\", fill =(0, 0, 0),font=font)\n",
    "    draw.text((width * 3 //4 + 100 , 0), f\"Panel: {main_script['panels'][i]['panel_number']}\", fill =(0, 0, 0),font=font)\n",
    "    \n",
    "    bottom_font_size = 15\n",
    "    font = ImageFont.load_default(bottom_font_size)\n",
    "    \n",
    "    # Calculate starting position for the first line\n",
    "    current_y = height + top_margin + bottom_font_size  # Adjust for margin and spacing\n",
    "    \n",
    "    for line in lines:\n",
    "        # Get text width using textlength\n",
    "        text_width = draw.textlength(line, font=font)\n",
    "    \n",
    "        # Calculate approximate text height based on font size\n",
    "        text_height = font.size  # Assuming single-line text\n",
    "    \n",
    "        # Draw the text on the image\n",
    "        draw.text((10, current_y), line, fill=(0, 0, 0), font=font)\n",
    "    \n",
    "        # Update current position for next line\n",
    "        current_y += text_height + 5  # Adjust for line spacing\n",
    "\n",
    "    new_width = new_image.height\n",
    "    new_height = new_width\n",
    "    frame_resize = Image.new(\"RGB\", (new_width, new_height), color=\"white\")\n",
    "    \n",
    "    # Calculate the coordinates to center the new image within the frame\n",
    "    x_offset = (new_width - new_image.width) // 2\n",
    "    y_offset = (new_height - new_image.height) // 2\n",
    "    \n",
    "    # Paste the new image onto the frame at the calculated coordinates\n",
    "    frame_resize.paste(new_image, (x_offset, y_offset))\n",
    "    \n",
    "    frame_resize.save(f\"../static/images/{i+1}_{main_script['title'].replace(' ', '_')}.jpg\")"
   ]
  },
  {
   "cell_type": "markdown",
   "id": "fd275498-4233-4455-9aac-e4f71738a9e7",
   "metadata": {},
   "source": [
    "# Test"
   ]
  },
  {
   "cell_type": "code",
   "execution_count": null,
   "id": "d7e700fb-eea3-4453-8eed-31576f6502ea",
   "metadata": {},
   "outputs": [],
   "source": [
    "openai_api_key = pd.read_csv(r'/home/cesar/Coding/openai_api.txt', header=None)[0][0]\n",
    "openai_api_test(openai_api_key)\n",
    "client = OpenAI()"
   ]
  },
  {
   "cell_type": "code",
   "execution_count": 17,
   "id": "d1645676-b212-494e-a672-1b2275dafbd3",
   "metadata": {},
   "outputs": [],
   "source": [
    "# TEST\n",
    "googleai_api_key = pd.read_csv(r'/home/cesar/Coding/GoogleAI-API-key.txt', header=None)[0][0]\n",
    "google_api_test(googleai_api_key)\n",
    "genai_model = genai.GenerativeModel(model_name='models/gemini-1.5-pro-latest')"
   ]
  },
  {
   "cell_type": "code",
   "execution_count": 18,
   "id": "369f18ce-e2b9-4249-85c2-a74b0ac67a4b",
   "metadata": {},
   "outputs": [],
   "source": [
    "# User input for a story idea. Entertainment, Business, Education\n",
    "user_input = \"A commercial about coffee in a coffee shop\""
   ]
  },
  {
   "cell_type": "code",
   "execution_count": 19,
   "id": "2cb2efb1-3237-4e6a-b136-fc8b1538c91f",
   "metadata": {},
   "outputs": [],
   "source": [
    "# A meta analysis of what the user wants to make a story about\n",
    "p0            = s0_meta_userprompt_info(user_input)"
   ]
  },
  {
   "cell_type": "code",
   "execution_count": 20,
   "id": "352fefda-f682-431e-9b10-4ff04b02e295",
   "metadata": {},
   "outputs": [],
   "source": [
    "# AI enhancement of the story idea \n",
    "main_plotline = s1_scene_treatment(p0)"
   ]
  },
  {
   "cell_type": "code",
   "execution_count": 22,
   "id": "9004aaac-f423-4b2f-8739-de69b0d08d65",
   "metadata": {},
   "outputs": [],
   "source": [
    "# A main script is generated structured as a JSON file\n",
    "main_script   = s2_script_prompt(p0, main_plotline)"
   ]
  },
  {
   "cell_type": "code",
   "execution_count": 23,
   "id": "99bf6aa9-07cd-4139-89a0-af46220ac84c",
   "metadata": {},
   "outputs": [],
   "source": [
    "# Write out main_script. Any previous script will be overwritten\n",
    "with open('main_script.json', 'w') as f:\n",
    "    json.dump(main_script, f)"
   ]
  },
  {
   "cell_type": "code",
   "execution_count": 24,
   "id": "4f105114-4b4b-4969-97cd-fd105a3addc1",
   "metadata": {},
   "outputs": [],
   "source": [
    "# This cell can be executed multiple times to change location descriptions\n",
    "new_script    = main_script\n",
    "new_script    = s3_internal_setting_update(new_script)"
   ]
  },
  {
   "cell_type": "code",
   "execution_count": 25,
   "id": "7f04989f-2329-4ad0-a4d2-e33f54a18276",
   "metadata": {},
   "outputs": [],
   "source": [
    "# This cell can be executed multiple times to change character descriptions\n",
    "new_script    = s3_internal_character_update(new_script)"
   ]
  },
  {
   "cell_type": "code",
   "execution_count": 26,
   "id": "d92aca82-7bde-42b9-9f5e-f510aabc7a38",
   "metadata": {},
   "outputs": [],
   "source": [
    "# Script augmentation with thorough image descriptions for consistent AI image generation.\n",
    "main_script   = new_script\n",
    "main_script   = s4_AIimage_generation(main_script)"
   ]
  },
  {
   "cell_type": "code",
   "execution_count": 27,
   "id": "e4e3149c-acf5-4ec9-9ce0-786458076aa4",
   "metadata": {},
   "outputs": [
    {
     "data": {
      "text/plain": [
       "{'title': 'The Daily Grind',\n",
       " 'characters': {'SARAH': '## Character Description for AI Image Prompt:\\n\\n**Age:** Mid-twenties\\n**Gender:** Female\\n**Height:** Average \\n**Build:** Slender \\n**Skin:** Light, with a healthy glow \\n**Eyes:** Large and brown, with a kind expression\\n**Hair:** Long and wavy, cascading over her shoulders, with a rich chestnut brown color\\n**Facial Features:** A warm smile frequently graces her face, and her friendly demeanor is evident in her relaxed expression. \\n\\n**Clothing Style:** \\n*   **Top:** A fitted, short-sleeved t-shirt in a vibrant color like teal or mustard yellow. \\n*   **Bottom:** Dark-wash skinny jeans that hug her figure.\\n*   **Footwear:** Comfortable and stylish sneakers, possibly Converse or Vans. \\n',\n",
       "  'MAN': '## Character Description:\\n\\n**Age:** Middle-aged (approximately 45-55 years old)\\n**Gender:** Male\\n**Height:** Average (5\\'9\" - 5\\'11\")\\n**Build:** Slender, slightly hunched posture\\n\\n**Facial Features:**\\n*   **Face Shape:** Oval, with a prominent jawline\\n*   **Eyes:** Deep-set, with dark circles underneath, conveying exhaustion\\n*   **Eyebrows:** Furrowed, adding to the impression of stress\\n*   **Nose:** Straight, average size\\n*   **Mouth:** Drawn into a thin line, lips pressed together \\n*   **Skin:** Pale, with visible lines and wrinkles around the eyes and forehead \\n\\n**Hair:**\\n*   **Color:** Dark brown, with flecks of gray at the temples\\n*   **Style:** Short and receding, combed back but slightly messy\\n\\n**Clothing:**\\n*   **Suit:** A two-piece suit in a dark, neutral color (e.g., charcoal gray or navy blue)\\n*   **Shirt:** A light-colored dress shirt, wrinkled and slightly untucked \\n*   **Tie:** Loosely knotted, askew \\n*   **Shoes:** Dark leather dress shoes, scuffed and worn \\n'},\n",
       " 'settings': {'COFFEE SHOP': \"The coffee shop's interior is bathed in warm, inviting tones. Walls painted a deep, earthy brown provide a backdrop for exposed brick accents, hinting at the building's historical past. Large, arched windows, their frames painted a crisp white, offer a glimpse into the vibrant city scene outside. Sunlight streams through the glass, illuminating the worn wooden floors and casting long shadows from the mismatched furniture. \\n\\nOverstuffed armchairs and plush sofas upholstered in a mix of floral and striped patterns are scattered throughout the space, inviting patrons to sink in and linger. Dark wood coffee tables, some etched with the rings of countless forgotten cups, sit between the seating areas. A long, communal table crafted from reclaimed wood occupies the center of the room, encouraging interaction between strangers. \\n\\nBehind the counter, a gleaming espresso machine crafted from polished steel stands as a testament to modern functionality, while antique copper scales and hand-painted ceramic canisters offer a nostalgic nod to the coffee houses of the past. The walls are adorned with local artwork – a mix of vibrant abstract paintings and black and white photographs – adding a splash of personality to the space. The overall effect is one of eclectic charm, blending historical elements with contemporary style to create a comfortable and visually appealing environment. \\n\"},\n",
       " 'panels': [{'panel_number': 1,\n",
       "   'panel_description': 'A wide shot of the coffee shop interior. Rain streaks down the large windows, blurring the view of the busy street outside. The warm glow of the cafe lights illuminates the cozy space, filled with the aroma of coffee and the soft murmur of conversation.',\n",
       "   'characters_involved': [],\n",
       "   'setting_involved': {'setting': 'COFFEE SHOP',\n",
       "    'perspective': 'interior',\n",
       "    'location': 'building'},\n",
       "   'captions': 'CAPTION: A rainy autumn afternoon in the city.',\n",
       "   'ai_image_prompt': \"Generate a hyper-realistic image based on this panel description: `A wide shot of the coffee shop interior. Rain streaks down the large windows, blurring the view of the busy street outside. The warm glow of the cafe lights illuminates the cozy space, filled with the aroma of coffee and the soft murmur of conversation.` \\n  The panel is set in the following setting: \\n `The coffee shop's interior is bathed in warm, inviting tones. Walls painted a deep, earthy brown provide a backdrop for exposed brick accents, hinting at the building's historical past. Large, arched windows, their frames painted a crisp white, offer a glimpse into the vibrant city scene outside. Sunlight streams through the glass, illuminating the worn wooden floors and casting long shadows from the mismatched furniture. \\n\\nOverstuffed armchairs and plush sofas upholstered in a mix of floral and striped patterns are scattered throughout the space, inviting patrons to sink in and linger. Dark wood coffee tables, some etched with the rings of countless forgotten cups, sit between the seating areas. A long, communal table crafted from reclaimed wood occupies the center of the room, encouraging interaction between strangers. \\n\\nBehind the counter, a gleaming espresso machine crafted from polished steel stands as a testament to modern functionality, while antique copper scales and hand-painted ceramic canisters offer a nostalgic nod to the coffee houses of the past. The walls are adorned with local artwork – a mix of vibrant abstract paintings and black and white photographs – adding a splash of personality to the space. The overall effect is one of eclectic charm, blending historical elements with contemporary style to create a comfortable and visually appealing environment. \\n` \\n\"},\n",
       "  {'panel_number': 2,\n",
       "   'panel_description': 'Sarah stands behind the counter, a welcoming smile on her face. She wears a brown apron over her clothes and her hair is tied back in a neat bun. She holds a portafilter, expertly tamping down the freshly ground coffee.',\n",
       "   'characters_involved': ['SARAH'],\n",
       "   'setting_involved': {'setting': 'COFFEE SHOP',\n",
       "    'perspective': 'interior',\n",
       "    'location': 'building'},\n",
       "   'ai_image_prompt': \"Generate a hyper-realistic image based on this panel description: `Sarah stands behind the counter, a welcoming smile on her face. She wears a brown apron over her clothes and her hair is tied back in a neat bun. She holds a portafilter, expertly tamping down the freshly ground coffee.` \\n Use the character descriptions provided below as a blueprint to accurately shape and define the characters: \\n * SARAH: ## Character Description for AI Image Prompt:\\n\\n**Age:** Mid-twenties\\n**Gender:** Female\\n**Height:** Average \\n**Build:** Slender \\n**Skin:** Light, with a healthy glow \\n**Eyes:** Large and brown, with a kind expression\\n**Hair:** Long and wavy, cascading over her shoulders, with a rich chestnut brown color\\n**Facial Features:** A warm smile frequently graces her face, and her friendly demeanor is evident in her relaxed expression. \\n\\n**Clothing Style:** \\n*   **Top:** A fitted, short-sleeved t-shirt in a vibrant color like teal or mustard yellow. \\n*   **Bottom:** Dark-wash skinny jeans that hug her figure.\\n*   **Footwear:** Comfortable and stylish sneakers, possibly Converse or Vans. \\n\\n The panel is set in the following setting: \\n `The coffee shop's interior is bathed in warm, inviting tones. Walls painted a deep, earthy brown provide a backdrop for exposed brick accents, hinting at the building's historical past. Large, arched windows, their frames painted a crisp white, offer a glimpse into the vibrant city scene outside. Sunlight streams through the glass, illuminating the worn wooden floors and casting long shadows from the mismatched furniture. \\n\\nOverstuffed armchairs and plush sofas upholstered in a mix of floral and striped patterns are scattered throughout the space, inviting patrons to sink in and linger. Dark wood coffee tables, some etched with the rings of countless forgotten cups, sit between the seating areas. A long, communal table crafted from reclaimed wood occupies the center of the room, encouraging interaction between strangers. \\n\\nBehind the counter, a gleaming espresso machine crafted from polished steel stands as a testament to modern functionality, while antique copper scales and hand-painted ceramic canisters offer a nostalgic nod to the coffee houses of the past. The walls are adorned with local artwork – a mix of vibrant abstract paintings and black and white photographs – adding a splash of personality to the space. The overall effect is one of eclectic charm, blending historical elements with contemporary style to create a comfortable and visually appealing environment. \\n` \\n\"},\n",
       "  {'panel_number': 3,\n",
       "   'panel_description': 'The Man enters the coffee shop, his shoulders slumped and his eyes glued to his phone. Raindrops cling to his coat and his hair is slightly disheveled.',\n",
       "   'characters_involved': ['MAN'],\n",
       "   'setting_involved': {'setting': 'COFFEE SHOP',\n",
       "    'perspective': 'interior',\n",
       "    'location': 'building'},\n",
       "   'ai_image_prompt': 'Generate a hyper-realistic image based on this panel description: `The Man enters the coffee shop, his shoulders slumped and his eyes glued to his phone. Raindrops cling to his coat and his hair is slightly disheveled.` \\n Use the character descriptions provided below as a blueprint to accurately shape and define the characters: \\n * MAN: ## Character Description:\\n\\n**Age:** Middle-aged (approximately 45-55 years old)\\n**Gender:** Male\\n**Height:** Average (5\\'9\" - 5\\'11\")\\n**Build:** Slender, slightly hunched posture\\n\\n**Facial Features:**\\n*   **Face Shape:** Oval, with a prominent jawline\\n*   **Eyes:** Deep-set, with dark circles underneath, conveying exhaustion\\n*   **Eyebrows:** Furrowed, adding to the impression of stress\\n*   **Nose:** Straight, average size\\n*   **Mouth:** Drawn into a thin line, lips pressed together \\n*   **Skin:** Pale, with visible lines and wrinkles around the eyes and forehead \\n\\n**Hair:**\\n*   **Color:** Dark brown, with flecks of gray at the temples\\n*   **Style:** Short and receding, combed back but slightly messy\\n\\n**Clothing:**\\n*   **Suit:** A two-piece suit in a dark, neutral color (e.g., charcoal gray or navy blue)\\n*   **Shirt:** A light-colored dress shirt, wrinkled and slightly untucked \\n*   **Tie:** Loosely knotted, askew \\n*   **Shoes:** Dark leather dress shoes, scuffed and worn \\n\\n The panel is set in the following setting: \\n `The coffee shop\\'s interior is bathed in warm, inviting tones. Walls painted a deep, earthy brown provide a backdrop for exposed brick accents, hinting at the building\\'s historical past. Large, arched windows, their frames painted a crisp white, offer a glimpse into the vibrant city scene outside. Sunlight streams through the glass, illuminating the worn wooden floors and casting long shadows from the mismatched furniture. \\n\\nOverstuffed armchairs and plush sofas upholstered in a mix of floral and striped patterns are scattered throughout the space, inviting patrons to sink in and linger. Dark wood coffee tables, some etched with the rings of countless forgotten cups, sit between the seating areas. A long, communal table crafted from reclaimed wood occupies the center of the room, encouraging interaction between strangers. \\n\\nBehind the counter, a gleaming espresso machine crafted from polished steel stands as a testament to modern functionality, while antique copper scales and hand-painted ceramic canisters offer a nostalgic nod to the coffee houses of the past. The walls are adorned with local artwork – a mix of vibrant abstract paintings and black and white photographs – adding a splash of personality to the space. The overall effect is one of eclectic charm, blending historical elements with contemporary style to create a comfortable and visually appealing environment. \\n` \\n'},\n",
       "  {'panel_number': 4,\n",
       "   'panel_description': 'Sarah greets the Man with a friendly smile. He glances up from his phone briefly, mumbling his order before returning his attention to the screen.',\n",
       "   'characters_involved': ['SARAH', 'MAN'],\n",
       "   'setting_involved': {'setting': 'COFFEE SHOP',\n",
       "    'perspective': 'interior',\n",
       "    'location': 'building'},\n",
       "   'dialogue': 'SARAH: Hello there! What can I get started for you today?\\nMAN: (without looking up) Just a coffee, black.',\n",
       "   'ai_image_prompt': 'Generate a hyper-realistic image based on this panel description: `Sarah greets the Man with a friendly smile. He glances up from his phone briefly, mumbling his order before returning his attention to the screen.` \\n Use the character descriptions provided below as a blueprint to accurately shape and define the characters: \\n * SARAH: ## Character Description for AI Image Prompt:\\n\\n**Age:** Mid-twenties\\n**Gender:** Female\\n**Height:** Average \\n**Build:** Slender \\n**Skin:** Light, with a healthy glow \\n**Eyes:** Large and brown, with a kind expression\\n**Hair:** Long and wavy, cascading over her shoulders, with a rich chestnut brown color\\n**Facial Features:** A warm smile frequently graces her face, and her friendly demeanor is evident in her relaxed expression. \\n\\n**Clothing Style:** \\n*   **Top:** A fitted, short-sleeved t-shirt in a vibrant color like teal or mustard yellow. \\n*   **Bottom:** Dark-wash skinny jeans that hug her figure.\\n*   **Footwear:** Comfortable and stylish sneakers, possibly Converse or Vans. \\n\\n* MAN: ## Character Description:\\n\\n**Age:** Middle-aged (approximately 45-55 years old)\\n**Gender:** Male\\n**Height:** Average (5\\'9\" - 5\\'11\")\\n**Build:** Slender, slightly hunched posture\\n\\n**Facial Features:**\\n*   **Face Shape:** Oval, with a prominent jawline\\n*   **Eyes:** Deep-set, with dark circles underneath, conveying exhaustion\\n*   **Eyebrows:** Furrowed, adding to the impression of stress\\n*   **Nose:** Straight, average size\\n*   **Mouth:** Drawn into a thin line, lips pressed together \\n*   **Skin:** Pale, with visible lines and wrinkles around the eyes and forehead \\n\\n**Hair:**\\n*   **Color:** Dark brown, with flecks of gray at the temples\\n*   **Style:** Short and receding, combed back but slightly messy\\n\\n**Clothing:**\\n*   **Suit:** A two-piece suit in a dark, neutral color (e.g., charcoal gray or navy blue)\\n*   **Shirt:** A light-colored dress shirt, wrinkled and slightly untucked \\n*   **Tie:** Loosely knotted, askew \\n*   **Shoes:** Dark leather dress shoes, scuffed and worn \\n\\n The panel is set in the following setting: \\n `The coffee shop\\'s interior is bathed in warm, inviting tones. Walls painted a deep, earthy brown provide a backdrop for exposed brick accents, hinting at the building\\'s historical past. Large, arched windows, their frames painted a crisp white, offer a glimpse into the vibrant city scene outside. Sunlight streams through the glass, illuminating the worn wooden floors and casting long shadows from the mismatched furniture. \\n\\nOverstuffed armchairs and plush sofas upholstered in a mix of floral and striped patterns are scattered throughout the space, inviting patrons to sink in and linger. Dark wood coffee tables, some etched with the rings of countless forgotten cups, sit between the seating areas. A long, communal table crafted from reclaimed wood occupies the center of the room, encouraging interaction between strangers. \\n\\nBehind the counter, a gleaming espresso machine crafted from polished steel stands as a testament to modern functionality, while antique copper scales and hand-painted ceramic canisters offer a nostalgic nod to the coffee houses of the past. The walls are adorned with local artwork – a mix of vibrant abstract paintings and black and white photographs – adding a splash of personality to the space. The overall effect is one of eclectic charm, blending historical elements with contemporary style to create a comfortable and visually appealing environment. \\n` \\n'},\n",
       "  {'panel_number': 5,\n",
       "   'panel_description': \"Close-up on Sarah's hands as she carefully pours hot water over the coffee grounds in a pour-over dripper. Steam rises from the cup, carrying the rich aroma of the coffee.\",\n",
       "   'characters_involved': ['SARAH'],\n",
       "   'setting_involved': {'setting': 'COFFEE SHOP',\n",
       "    'perspective': 'interior',\n",
       "    'location': 'building'},\n",
       "   'ai_image_prompt': \"Generate a hyper-realistic image based on this panel description: `Close-up on Sarah's hands as she carefully pours hot water over the coffee grounds in a pour-over dripper. Steam rises from the cup, carrying the rich aroma of the coffee.` \\n Use the character descriptions provided below as a blueprint to accurately shape and define the characters: \\n * SARAH: ## Character Description for AI Image Prompt:\\n\\n**Age:** Mid-twenties\\n**Gender:** Female\\n**Height:** Average \\n**Build:** Slender \\n**Skin:** Light, with a healthy glow \\n**Eyes:** Large and brown, with a kind expression\\n**Hair:** Long and wavy, cascading over her shoulders, with a rich chestnut brown color\\n**Facial Features:** A warm smile frequently graces her face, and her friendly demeanor is evident in her relaxed expression. \\n\\n**Clothing Style:** \\n*   **Top:** A fitted, short-sleeved t-shirt in a vibrant color like teal or mustard yellow. \\n*   **Bottom:** Dark-wash skinny jeans that hug her figure.\\n*   **Footwear:** Comfortable and stylish sneakers, possibly Converse or Vans. \\n\\n The panel is set in the following setting: \\n `The coffee shop's interior is bathed in warm, inviting tones. Walls painted a deep, earthy brown provide a backdrop for exposed brick accents, hinting at the building's historical past. Large, arched windows, their frames painted a crisp white, offer a glimpse into the vibrant city scene outside. Sunlight streams through the glass, illuminating the worn wooden floors and casting long shadows from the mismatched furniture. \\n\\nOverstuffed armchairs and plush sofas upholstered in a mix of floral and striped patterns are scattered throughout the space, inviting patrons to sink in and linger. Dark wood coffee tables, some etched with the rings of countless forgotten cups, sit between the seating areas. A long, communal table crafted from reclaimed wood occupies the center of the room, encouraging interaction between strangers. \\n\\nBehind the counter, a gleaming espresso machine crafted from polished steel stands as a testament to modern functionality, while antique copper scales and hand-painted ceramic canisters offer a nostalgic nod to the coffee houses of the past. The walls are adorned with local artwork – a mix of vibrant abstract paintings and black and white photographs – adding a splash of personality to the space. The overall effect is one of eclectic charm, blending historical elements with contemporary style to create a comfortable and visually appealing environment. \\n` \\n\"},\n",
       "  {'panel_number': 6,\n",
       "   'panel_description': 'The Man watches with mild curiosity as Sarah prepares his coffee. He lowers his phone slightly, intrigued by the process and the enticing aroma.',\n",
       "   'characters_involved': ['MAN'],\n",
       "   'setting_involved': {'setting': 'COFFEE SHOP',\n",
       "    'perspective': 'interior',\n",
       "    'location': 'building'},\n",
       "   'ai_image_prompt': 'Generate a hyper-realistic image based on this panel description: `The Man watches with mild curiosity as Sarah prepares his coffee. He lowers his phone slightly, intrigued by the process and the enticing aroma.` \\n Use the character descriptions provided below as a blueprint to accurately shape and define the characters: \\n * MAN: ## Character Description:\\n\\n**Age:** Middle-aged (approximately 45-55 years old)\\n**Gender:** Male\\n**Height:** Average (5\\'9\" - 5\\'11\")\\n**Build:** Slender, slightly hunched posture\\n\\n**Facial Features:**\\n*   **Face Shape:** Oval, with a prominent jawline\\n*   **Eyes:** Deep-set, with dark circles underneath, conveying exhaustion\\n*   **Eyebrows:** Furrowed, adding to the impression of stress\\n*   **Nose:** Straight, average size\\n*   **Mouth:** Drawn into a thin line, lips pressed together \\n*   **Skin:** Pale, with visible lines and wrinkles around the eyes and forehead \\n\\n**Hair:**\\n*   **Color:** Dark brown, with flecks of gray at the temples\\n*   **Style:** Short and receding, combed back but slightly messy\\n\\n**Clothing:**\\n*   **Suit:** A two-piece suit in a dark, neutral color (e.g., charcoal gray or navy blue)\\n*   **Shirt:** A light-colored dress shirt, wrinkled and slightly untucked \\n*   **Tie:** Loosely knotted, askew \\n*   **Shoes:** Dark leather dress shoes, scuffed and worn \\n\\n The panel is set in the following setting: \\n `The coffee shop\\'s interior is bathed in warm, inviting tones. Walls painted a deep, earthy brown provide a backdrop for exposed brick accents, hinting at the building\\'s historical past. Large, arched windows, their frames painted a crisp white, offer a glimpse into the vibrant city scene outside. Sunlight streams through the glass, illuminating the worn wooden floors and casting long shadows from the mismatched furniture. \\n\\nOverstuffed armchairs and plush sofas upholstered in a mix of floral and striped patterns are scattered throughout the space, inviting patrons to sink in and linger. Dark wood coffee tables, some etched with the rings of countless forgotten cups, sit between the seating areas. A long, communal table crafted from reclaimed wood occupies the center of the room, encouraging interaction between strangers. \\n\\nBehind the counter, a gleaming espresso machine crafted from polished steel stands as a testament to modern functionality, while antique copper scales and hand-painted ceramic canisters offer a nostalgic nod to the coffee houses of the past. The walls are adorned with local artwork – a mix of vibrant abstract paintings and black and white photographs – adding a splash of personality to the space. The overall effect is one of eclectic charm, blending historical elements with contemporary style to create a comfortable and visually appealing environment. \\n` \\n'},\n",
       "  {'panel_number': 7,\n",
       "   'panel_description': 'Sarah presents the Man with his coffee. The cup is simple and elegant, the dark liquid inside promising warmth and comfort.',\n",
       "   'characters_involved': ['SARAH', 'MAN'],\n",
       "   'setting_involved': {'setting': 'COFFEE SHOP',\n",
       "    'perspective': 'interior',\n",
       "    'location': 'building'},\n",
       "   'dialogue': 'SARAH: Here you go. This is our special blend, with notes of dark chocolate and caramel. Enjoy!',\n",
       "   'ai_image_prompt': 'Generate a hyper-realistic image based on this panel description: `Sarah presents the Man with his coffee. The cup is simple and elegant, the dark liquid inside promising warmth and comfort.` \\n Use the character descriptions provided below as a blueprint to accurately shape and define the characters: \\n * SARAH: ## Character Description for AI Image Prompt:\\n\\n**Age:** Mid-twenties\\n**Gender:** Female\\n**Height:** Average \\n**Build:** Slender \\n**Skin:** Light, with a healthy glow \\n**Eyes:** Large and brown, with a kind expression\\n**Hair:** Long and wavy, cascading over her shoulders, with a rich chestnut brown color\\n**Facial Features:** A warm smile frequently graces her face, and her friendly demeanor is evident in her relaxed expression. \\n\\n**Clothing Style:** \\n*   **Top:** A fitted, short-sleeved t-shirt in a vibrant color like teal or mustard yellow. \\n*   **Bottom:** Dark-wash skinny jeans that hug her figure.\\n*   **Footwear:** Comfortable and stylish sneakers, possibly Converse or Vans. \\n\\n* MAN: ## Character Description:\\n\\n**Age:** Middle-aged (approximately 45-55 years old)\\n**Gender:** Male\\n**Height:** Average (5\\'9\" - 5\\'11\")\\n**Build:** Slender, slightly hunched posture\\n\\n**Facial Features:**\\n*   **Face Shape:** Oval, with a prominent jawline\\n*   **Eyes:** Deep-set, with dark circles underneath, conveying exhaustion\\n*   **Eyebrows:** Furrowed, adding to the impression of stress\\n*   **Nose:** Straight, average size\\n*   **Mouth:** Drawn into a thin line, lips pressed together \\n*   **Skin:** Pale, with visible lines and wrinkles around the eyes and forehead \\n\\n**Hair:**\\n*   **Color:** Dark brown, with flecks of gray at the temples\\n*   **Style:** Short and receding, combed back but slightly messy\\n\\n**Clothing:**\\n*   **Suit:** A two-piece suit in a dark, neutral color (e.g., charcoal gray or navy blue)\\n*   **Shirt:** A light-colored dress shirt, wrinkled and slightly untucked \\n*   **Tie:** Loosely knotted, askew \\n*   **Shoes:** Dark leather dress shoes, scuffed and worn \\n\\n The panel is set in the following setting: \\n `The coffee shop\\'s interior is bathed in warm, inviting tones. Walls painted a deep, earthy brown provide a backdrop for exposed brick accents, hinting at the building\\'s historical past. Large, arched windows, their frames painted a crisp white, offer a glimpse into the vibrant city scene outside. Sunlight streams through the glass, illuminating the worn wooden floors and casting long shadows from the mismatched furniture. \\n\\nOverstuffed armchairs and plush sofas upholstered in a mix of floral and striped patterns are scattered throughout the space, inviting patrons to sink in and linger. Dark wood coffee tables, some etched with the rings of countless forgotten cups, sit between the seating areas. A long, communal table crafted from reclaimed wood occupies the center of the room, encouraging interaction between strangers. \\n\\nBehind the counter, a gleaming espresso machine crafted from polished steel stands as a testament to modern functionality, while antique copper scales and hand-painted ceramic canisters offer a nostalgic nod to the coffee houses of the past. The walls are adorned with local artwork – a mix of vibrant abstract paintings and black and white photographs – adding a splash of personality to the space. The overall effect is one of eclectic charm, blending historical elements with contemporary style to create a comfortable and visually appealing environment. \\n` \\n'},\n",
       "  {'panel_number': 8,\n",
       "   'panel_description': 'The Man takes a slow sip of the coffee, his eyes widening in surprise. A look of pure contentment spreads across his face as he savors the complex flavors.',\n",
       "   'characters_involved': ['MAN'],\n",
       "   'setting_involved': {'setting': 'COFFEE SHOP',\n",
       "    'perspective': 'interior',\n",
       "    'location': 'building'},\n",
       "   'ai_image_prompt': 'Generate a hyper-realistic image based on this panel description: `The Man takes a slow sip of the coffee, his eyes widening in surprise. A look of pure contentment spreads across his face as he savors the complex flavors.` \\n Use the character descriptions provided below as a blueprint to accurately shape and define the characters: \\n * MAN: ## Character Description:\\n\\n**Age:** Middle-aged (approximately 45-55 years old)\\n**Gender:** Male\\n**Height:** Average (5\\'9\" - 5\\'11\")\\n**Build:** Slender, slightly hunched posture\\n\\n**Facial Features:**\\n*   **Face Shape:** Oval, with a prominent jawline\\n*   **Eyes:** Deep-set, with dark circles underneath, conveying exhaustion\\n*   **Eyebrows:** Furrowed, adding to the impression of stress\\n*   **Nose:** Straight, average size\\n*   **Mouth:** Drawn into a thin line, lips pressed together \\n*   **Skin:** Pale, with visible lines and wrinkles around the eyes and forehead \\n\\n**Hair:**\\n*   **Color:** Dark brown, with flecks of gray at the temples\\n*   **Style:** Short and receding, combed back but slightly messy\\n\\n**Clothing:**\\n*   **Suit:** A two-piece suit in a dark, neutral color (e.g., charcoal gray or navy blue)\\n*   **Shirt:** A light-colored dress shirt, wrinkled and slightly untucked \\n*   **Tie:** Loosely knotted, askew \\n*   **Shoes:** Dark leather dress shoes, scuffed and worn \\n\\n The panel is set in the following setting: \\n `The coffee shop\\'s interior is bathed in warm, inviting tones. Walls painted a deep, earthy brown provide a backdrop for exposed brick accents, hinting at the building\\'s historical past. Large, arched windows, their frames painted a crisp white, offer a glimpse into the vibrant city scene outside. Sunlight streams through the glass, illuminating the worn wooden floors and casting long shadows from the mismatched furniture. \\n\\nOverstuffed armchairs and plush sofas upholstered in a mix of floral and striped patterns are scattered throughout the space, inviting patrons to sink in and linger. Dark wood coffee tables, some etched with the rings of countless forgotten cups, sit between the seating areas. A long, communal table crafted from reclaimed wood occupies the center of the room, encouraging interaction between strangers. \\n\\nBehind the counter, a gleaming espresso machine crafted from polished steel stands as a testament to modern functionality, while antique copper scales and hand-painted ceramic canisters offer a nostalgic nod to the coffee houses of the past. The walls are adorned with local artwork – a mix of vibrant abstract paintings and black and white photographs – adding a splash of personality to the space. The overall effect is one of eclectic charm, blending historical elements with contemporary style to create a comfortable and visually appealing environment. \\n` \\n'},\n",
       "  {'panel_number': 9,\n",
       "   'panel_description': 'The Man sits at a small table by the window, his phone forgotten on the table. He takes another sip of his coffee, lost in the simple pleasure of the moment. The rain outside has stopped, and a sliver of sunlight peeks through the clouds.',\n",
       "   'characters_involved': ['MAN'],\n",
       "   'setting_involved': {'setting': 'COFFEE SHOP',\n",
       "    'perspective': 'interior',\n",
       "    'location': 'building'},\n",
       "   'ai_image_prompt': 'Generate a hyper-realistic image based on this panel description: `The Man sits at a small table by the window, his phone forgotten on the table. He takes another sip of his coffee, lost in the simple pleasure of the moment. The rain outside has stopped, and a sliver of sunlight peeks through the clouds.` \\n Use the character descriptions provided below as a blueprint to accurately shape and define the characters: \\n * MAN: ## Character Description:\\n\\n**Age:** Middle-aged (approximately 45-55 years old)\\n**Gender:** Male\\n**Height:** Average (5\\'9\" - 5\\'11\")\\n**Build:** Slender, slightly hunched posture\\n\\n**Facial Features:**\\n*   **Face Shape:** Oval, with a prominent jawline\\n*   **Eyes:** Deep-set, with dark circles underneath, conveying exhaustion\\n*   **Eyebrows:** Furrowed, adding to the impression of stress\\n*   **Nose:** Straight, average size\\n*   **Mouth:** Drawn into a thin line, lips pressed together \\n*   **Skin:** Pale, with visible lines and wrinkles around the eyes and forehead \\n\\n**Hair:**\\n*   **Color:** Dark brown, with flecks of gray at the temples\\n*   **Style:** Short and receding, combed back but slightly messy\\n\\n**Clothing:**\\n*   **Suit:** A two-piece suit in a dark, neutral color (e.g., charcoal gray or navy blue)\\n*   **Shirt:** A light-colored dress shirt, wrinkled and slightly untucked \\n*   **Tie:** Loosely knotted, askew \\n*   **Shoes:** Dark leather dress shoes, scuffed and worn \\n\\n The panel is set in the following setting: \\n `The coffee shop\\'s interior is bathed in warm, inviting tones. Walls painted a deep, earthy brown provide a backdrop for exposed brick accents, hinting at the building\\'s historical past. Large, arched windows, their frames painted a crisp white, offer a glimpse into the vibrant city scene outside. Sunlight streams through the glass, illuminating the worn wooden floors and casting long shadows from the mismatched furniture. \\n\\nOverstuffed armchairs and plush sofas upholstered in a mix of floral and striped patterns are scattered throughout the space, inviting patrons to sink in and linger. Dark wood coffee tables, some etched with the rings of countless forgotten cups, sit between the seating areas. A long, communal table crafted from reclaimed wood occupies the center of the room, encouraging interaction between strangers. \\n\\nBehind the counter, a gleaming espresso machine crafted from polished steel stands as a testament to modern functionality, while antique copper scales and hand-painted ceramic canisters offer a nostalgic nod to the coffee houses of the past. The walls are adorned with local artwork – a mix of vibrant abstract paintings and black and white photographs – adding a splash of personality to the space. The overall effect is one of eclectic charm, blending historical elements with contemporary style to create a comfortable and visually appealing environment. \\n` \\n'},\n",
       "  {'panel_number': 10,\n",
       "   'panel_description': 'The Man finishes his coffee and stands up, a hint of a smile on his face. He approaches the counter, his demeanor noticeably lighter.',\n",
       "   'characters_involved': ['MAN'],\n",
       "   'setting_involved': {'setting': 'COFFEE SHOP',\n",
       "    'perspective': 'interior',\n",
       "    'location': 'building'},\n",
       "   'ai_image_prompt': 'Generate a hyper-realistic image based on this panel description: `The Man finishes his coffee and stands up, a hint of a smile on his face. He approaches the counter, his demeanor noticeably lighter.` \\n Use the character descriptions provided below as a blueprint to accurately shape and define the characters: \\n * MAN: ## Character Description:\\n\\n**Age:** Middle-aged (approximately 45-55 years old)\\n**Gender:** Male\\n**Height:** Average (5\\'9\" - 5\\'11\")\\n**Build:** Slender, slightly hunched posture\\n\\n**Facial Features:**\\n*   **Face Shape:** Oval, with a prominent jawline\\n*   **Eyes:** Deep-set, with dark circles underneath, conveying exhaustion\\n*   **Eyebrows:** Furrowed, adding to the impression of stress\\n*   **Nose:** Straight, average size\\n*   **Mouth:** Drawn into a thin line, lips pressed together \\n*   **Skin:** Pale, with visible lines and wrinkles around the eyes and forehead \\n\\n**Hair:**\\n*   **Color:** Dark brown, with flecks of gray at the temples\\n*   **Style:** Short and receding, combed back but slightly messy\\n\\n**Clothing:**\\n*   **Suit:** A two-piece suit in a dark, neutral color (e.g., charcoal gray or navy blue)\\n*   **Shirt:** A light-colored dress shirt, wrinkled and slightly untucked \\n*   **Tie:** Loosely knotted, askew \\n*   **Shoes:** Dark leather dress shoes, scuffed and worn \\n\\n The panel is set in the following setting: \\n `The coffee shop\\'s interior is bathed in warm, inviting tones. Walls painted a deep, earthy brown provide a backdrop for exposed brick accents, hinting at the building\\'s historical past. Large, arched windows, their frames painted a crisp white, offer a glimpse into the vibrant city scene outside. Sunlight streams through the glass, illuminating the worn wooden floors and casting long shadows from the mismatched furniture. \\n\\nOverstuffed armchairs and plush sofas upholstered in a mix of floral and striped patterns are scattered throughout the space, inviting patrons to sink in and linger. Dark wood coffee tables, some etched with the rings of countless forgotten cups, sit between the seating areas. A long, communal table crafted from reclaimed wood occupies the center of the room, encouraging interaction between strangers. \\n\\nBehind the counter, a gleaming espresso machine crafted from polished steel stands as a testament to modern functionality, while antique copper scales and hand-painted ceramic canisters offer a nostalgic nod to the coffee houses of the past. The walls are adorned with local artwork – a mix of vibrant abstract paintings and black and white photographs – adding a splash of personality to the space. The overall effect is one of eclectic charm, blending historical elements with contemporary style to create a comfortable and visually appealing environment. \\n` \\n'},\n",
       "  {'panel_number': 11,\n",
       "   'panel_description': \"Sarah smiles back at the Man, her eyes reflecting the satisfaction of knowing she's made a positive impact on his day.\",\n",
       "   'characters_involved': ['SARAH', 'MAN'],\n",
       "   'setting_involved': {'setting': 'COFFEE SHOP',\n",
       "    'perspective': 'interior',\n",
       "    'location': 'building'},\n",
       "   'dialogue': \"MAN: Thank you. That was truly the best cup of coffee I've had in a long time.\",\n",
       "   'ai_image_prompt': 'Generate a hyper-realistic image based on this panel description: `Sarah smiles back at the Man, her eyes reflecting the satisfaction of knowing she\\'s made a positive impact on his day.` \\n Use the character descriptions provided below as a blueprint to accurately shape and define the characters: \\n * SARAH: ## Character Description for AI Image Prompt:\\n\\n**Age:** Mid-twenties\\n**Gender:** Female\\n**Height:** Average \\n**Build:** Slender \\n**Skin:** Light, with a healthy glow \\n**Eyes:** Large and brown, with a kind expression\\n**Hair:** Long and wavy, cascading over her shoulders, with a rich chestnut brown color\\n**Facial Features:** A warm smile frequently graces her face, and her friendly demeanor is evident in her relaxed expression. \\n\\n**Clothing Style:** \\n*   **Top:** A fitted, short-sleeved t-shirt in a vibrant color like teal or mustard yellow. \\n*   **Bottom:** Dark-wash skinny jeans that hug her figure.\\n*   **Footwear:** Comfortable and stylish sneakers, possibly Converse or Vans. \\n\\n* MAN: ## Character Description:\\n\\n**Age:** Middle-aged (approximately 45-55 years old)\\n**Gender:** Male\\n**Height:** Average (5\\'9\" - 5\\'11\")\\n**Build:** Slender, slightly hunched posture\\n\\n**Facial Features:**\\n*   **Face Shape:** Oval, with a prominent jawline\\n*   **Eyes:** Deep-set, with dark circles underneath, conveying exhaustion\\n*   **Eyebrows:** Furrowed, adding to the impression of stress\\n*   **Nose:** Straight, average size\\n*   **Mouth:** Drawn into a thin line, lips pressed together \\n*   **Skin:** Pale, with visible lines and wrinkles around the eyes and forehead \\n\\n**Hair:**\\n*   **Color:** Dark brown, with flecks of gray at the temples\\n*   **Style:** Short and receding, combed back but slightly messy\\n\\n**Clothing:**\\n*   **Suit:** A two-piece suit in a dark, neutral color (e.g., charcoal gray or navy blue)\\n*   **Shirt:** A light-colored dress shirt, wrinkled and slightly untucked \\n*   **Tie:** Loosely knotted, askew \\n*   **Shoes:** Dark leather dress shoes, scuffed and worn \\n\\n The panel is set in the following setting: \\n `The coffee shop\\'s interior is bathed in warm, inviting tones. Walls painted a deep, earthy brown provide a backdrop for exposed brick accents, hinting at the building\\'s historical past. Large, arched windows, their frames painted a crisp white, offer a glimpse into the vibrant city scene outside. Sunlight streams through the glass, illuminating the worn wooden floors and casting long shadows from the mismatched furniture. \\n\\nOverstuffed armchairs and plush sofas upholstered in a mix of floral and striped patterns are scattered throughout the space, inviting patrons to sink in and linger. Dark wood coffee tables, some etched with the rings of countless forgotten cups, sit between the seating areas. A long, communal table crafted from reclaimed wood occupies the center of the room, encouraging interaction between strangers. \\n\\nBehind the counter, a gleaming espresso machine crafted from polished steel stands as a testament to modern functionality, while antique copper scales and hand-painted ceramic canisters offer a nostalgic nod to the coffee houses of the past. The walls are adorned with local artwork – a mix of vibrant abstract paintings and black and white photographs – adding a splash of personality to the space. The overall effect is one of eclectic charm, blending historical elements with contemporary style to create a comfortable and visually appealing environment. \\n` \\n'},\n",
       "  {'panel_number': 12,\n",
       "   'panel_description': \"The Man exits the coffee shop, stepping back into the bustle of the city. He walks with a newfound spring in his step, the warmth of the coffee and Sarah's kindness lingering with him.\",\n",
       "   'characters_involved': ['MAN'],\n",
       "   'setting_involved': {'setting': 'COFFEE SHOP',\n",
       "    'perspective': 'exterior',\n",
       "    'location': 'building'},\n",
       "   'captions': 'CAPTION: The little things in life, like a perfect cup of coffee, can make all the difference.',\n",
       "   'ai_image_prompt': 'Generate a hyper-realistic image based on this panel description: `The Man exits the coffee shop, stepping back into the bustle of the city. He walks with a newfound spring in his step, the warmth of the coffee and Sarah\\'s kindness lingering with him.` \\n Use the character descriptions provided below as a blueprint to accurately shape and define the characters: \\n * MAN: ## Character Description:\\n\\n**Age:** Middle-aged (approximately 45-55 years old)\\n**Gender:** Male\\n**Height:** Average (5\\'9\" - 5\\'11\")\\n**Build:** Slender, slightly hunched posture\\n\\n**Facial Features:**\\n*   **Face Shape:** Oval, with a prominent jawline\\n*   **Eyes:** Deep-set, with dark circles underneath, conveying exhaustion\\n*   **Eyebrows:** Furrowed, adding to the impression of stress\\n*   **Nose:** Straight, average size\\n*   **Mouth:** Drawn into a thin line, lips pressed together \\n*   **Skin:** Pale, with visible lines and wrinkles around the eyes and forehead \\n\\n**Hair:**\\n*   **Color:** Dark brown, with flecks of gray at the temples\\n*   **Style:** Short and receding, combed back but slightly messy\\n\\n**Clothing:**\\n*   **Suit:** A two-piece suit in a dark, neutral color (e.g., charcoal gray or navy blue)\\n*   **Shirt:** A light-colored dress shirt, wrinkled and slightly untucked \\n*   **Tie:** Loosely knotted, askew \\n*   **Shoes:** Dark leather dress shoes, scuffed and worn \\n\\n'}]}"
      ]
     },
     "execution_count": 27,
     "metadata": {},
     "output_type": "execute_result"
    }
   ],
   "source": [
    "main_script"
   ]
  },
  {
   "cell_type": "markdown",
   "id": "6ff4fc4b-fdbf-4697-b7be-bd8e80fd96c4",
   "metadata": {},
   "source": [
    "# Images"
   ]
  },
  {
   "cell_type": "code",
   "execution_count": null,
   "id": "41fe1207-1403-48e5-9a52-d29e058839a1",
   "metadata": {},
   "outputs": [],
   "source": [
    "# Delete any previous iteration of images\n",
    "files = glob.glob('../static/images/*')\n",
    "for f in files:\n",
    "    os.remove(f)"
   ]
  },
  {
   "cell_type": "code",
   "execution_count": null,
   "id": "620054e4-6267-4fd9-98c4-16268a63a9fe",
   "metadata": {},
   "outputs": [],
   "source": [
    "# Generate AI images\n",
    "for i in range(len(main_script['panels'])):\n",
    "    AI_image_generation(main_script, i)"
   ]
  }
 ],
 "metadata": {
  "kernelspec": {
   "display_name": "Python 3 (ipykernel)",
   "language": "python",
   "name": "python3"
  },
  "language_info": {
   "codemirror_mode": {
    "name": "ipython",
    "version": 3
   },
   "file_extension": ".py",
   "mimetype": "text/x-python",
   "name": "python",
   "nbconvert_exporter": "python",
   "pygments_lexer": "ipython3",
   "version": "3.11.8"
  }
 },
 "nbformat": 4,
 "nbformat_minor": 5
}
