{
 "cells": [
  {
   "cell_type": "markdown",
   "metadata": {},
   "source": [
    "# About\n",
    "This notebook contains the workflow to obtain details from an image to be stored as a JSON document in the MongoDB Storage.\n",
    "\n",
    "Productionze:\n",
    "* Prompt functions\n",
    "* LLM API"
   ]
  },
  {
   "cell_type": "markdown",
   "metadata": {},
   "source": [
    "# Libraries"
   ]
  },
  {
   "cell_type": "code",
   "execution_count": 1,
   "metadata": {},
   "outputs": [],
   "source": [
    "import os\n",
    "import json\n",
    "from pathlib import Path\n",
    "import time\n",
    "\n",
    "\n",
    "import pandas as pd\n",
    "from datetime import datetime\n",
    "\n",
    "import google.generativeai as genai\n",
    "\n",
    "from PIL import Image"
   ]
  },
  {
   "cell_type": "markdown",
   "metadata": {},
   "source": [
    "# User-Defined Functions"
   ]
  },
  {
   "cell_type": "markdown",
   "metadata": {},
   "source": [
    "## ■ API functions"
   ]
  },
  {
   "cell_type": "code",
   "execution_count": 2,
   "metadata": {},
   "outputs": [],
   "source": [
    "def google_api_test(googleai_api_key):\n",
    "    \n",
    "    genai.configure(api_key=googleai_api_key)\n",
    "    \n",
    "    genai_model = genai.GenerativeModel(\n",
    "        model_name='models/gemini-1.5-pro-latest',\n",
    "    )\n",
    "\n",
    "    try:\n",
    "        response = genai_model.generate_content(\"Return: 'Ok'\")\n",
    "        return response.candidates[0].content.parts[0].text.replace(\" \\n\", \"\")\n",
    "        \n",
    "    except Exception as e:\n",
    "        return e"
   ]
  },
  {
   "cell_type": "markdown",
   "metadata": {},
   "source": [
    "## ■ Job ID"
   ]
  },
  {
   "cell_type": "code",
   "execution_count": 3,
   "metadata": {},
   "outputs": [],
   "source": [
    "def get_current_datetime():\n",
    "    now = datetime.now()\n",
    "    formatted_now = now.strftime(\"%y%m%d%H%M-%s\")\n",
    "    return formatted_now\n",
    "\n",
    "def get_first_letters(name):\n",
    "    # Split the name into words\n",
    "    words = name.split()\n",
    "    # Get the first letter of each word\n",
    "    first_letters = [word[0] for word in words if word]\n",
    "    # Join the first letters to form a string\n",
    "    result = ''.join(first_letters)\n",
    "    return result\n",
    "\n",
    "def create_job_id(user_name):\n",
    "    return get_current_datetime() + '-'+ get_first_letters(user_name)\n",
    "    "
   ]
  },
  {
   "cell_type": "markdown",
   "metadata": {},
   "source": [
    "## ■ GoogleAI responses"
   ]
  },
  {
   "cell_type": "markdown",
   "metadata": {},
   "source": [
    "### > Text-to-text"
   ]
  },
  {
   "cell_type": "code",
   "execution_count": 4,
   "metadata": {},
   "outputs": [],
   "source": [
    "def t2t(text):\n",
    "    response = genai_model.generate_content(text)\n",
    "    return response.text"
   ]
  },
  {
   "cell_type": "markdown",
   "metadata": {},
   "source": [
    "### > Image-to-text"
   ]
  },
  {
   "cell_type": "code",
   "execution_count": 5,
   "metadata": {},
   "outputs": [],
   "source": [
    "def i2t(img):\n",
    "    \"\"\"\n",
    "    image to text\n",
    "    \"\"\"\n",
    "    response = genai_model.generate_content(img)\n",
    "    \n",
    "    return response.text"
   ]
  },
  {
   "cell_type": "markdown",
   "metadata": {},
   "source": [
    "### > Text & Image-to-text"
   ]
  },
  {
   "cell_type": "code",
   "execution_count": 6,
   "metadata": {},
   "outputs": [],
   "source": [
    "def ti2t(text, img):\n",
    "    \"\"\"\n",
    "    The generate_content method can handle a wide variety of use cases depending on what the underlying model supports, including:\n",
    "    * multi-turn chat\n",
    "    * multimodal input. \n",
    "    \n",
    "    The available models only support text and images as input, and text as output.\n",
    "    \"\"\"\n",
    "    response = genai_model.generate_content([text, img])\n",
    "    \n",
    "    return response.text"
   ]
  },
  {
   "cell_type": "markdown",
   "metadata": {},
   "source": [
    "### > Dummy JSON Parser"
   ]
  },
  {
   "cell_type": "code",
   "execution_count": 7,
   "metadata": {},
   "outputs": [],
   "source": [
    "def dummy_json_parser(dirty_json):\n",
    "    # Dummy function for text to JSON parser\n",
    "    parser = dirty_json\n",
    "    parser = parser.replace(\"\\n\", \"\")\n",
    "    parser = parser.replace(\"json{\", \"{\")\n",
    "    parser = parser.replace(\"```\", \"\")\n",
    "    return json.loads(parser)"
   ]
  },
  {
   "cell_type": "markdown",
   "metadata": {},
   "source": [
    "## ■ Image Processing"
   ]
  },
  {
   "cell_type": "code",
   "execution_count": 8,
   "metadata": {},
   "outputs": [],
   "source": [
    "def concatenate_images_in_folder_vertically(folder_path, output_path):\n",
    "    # Get all image files in the folder, excluding the output file\n",
    "    image_files = [f for f in os.listdir(folder_path) if f.lower().endswith(('png', 'jpg', 'jpeg', 'gif', 'bmp')) and f != os.path.basename(output_path)]\n",
    "    \n",
    "    # Load all images\n",
    "    images = [Image.open(os.path.join(folder_path, img)) for img in image_files]\n",
    "    \n",
    "    # Determine the dimensions of the final image\n",
    "    max_width = max(image.width for image in images)\n",
    "    total_height = sum(image.height for image in images)\n",
    "    \n",
    "    # Create a new image with the calculated dimensions\n",
    "    combined_image = Image.new('RGB', (max_width, total_height))\n",
    "    \n",
    "    # Paste all images into the new image\n",
    "    current_y = 0\n",
    "    for image in images:\n",
    "        combined_image.paste(image, (0, current_y))\n",
    "        current_y += image.height\n",
    "    \n",
    "    # Save the combined image\n",
    "    combined_image.save(output_path)"
   ]
  },
  {
   "cell_type": "markdown",
   "metadata": {},
   "source": [
    "## ■ Retrying Failed AI Functions"
   ]
  },
  {
   "cell_type": "code",
   "execution_count": 9,
   "metadata": {},
   "outputs": [],
   "source": [
    "\n",
    "def retry_function(func, retries=3, delay=45):\n",
    "    \"\"\"\n",
    "    Retries a function if it fails.\n",
    "    \n",
    "    Parameters:\n",
    "    - func: the function to retry\n",
    "    - retries: the number of retry attempts\n",
    "    - delay: the delay in seconds between retries\n",
    "    \n",
    "    Returns:\n",
    "    - The result of the function if it succeeds\n",
    "    - None if all retries fail\n",
    "    \"\"\"\n",
    "    for attempt in range(retries):\n",
    "        try:\n",
    "            result = func()\n",
    "            return result\n",
    "        except Exception as e:\n",
    "            print(f\"Attempt {attempt + 1} failed: {e}\")\n",
    "            if attempt < retries - 1:  # If it's not the last attempt\n",
    "                print(f\"Waiting {delay} seconds before retrying...\")\n",
    "                time.sleep(delay)\n",
    "    print(\"All attempts failed.\")\n",
    "    return None\n"
   ]
  },
  {
   "cell_type": "markdown",
   "metadata": {},
   "source": [
    "## ■ Prompts"
   ]
  },
  {
   "cell_type": "code",
   "execution_count": 61,
   "metadata": {},
   "outputs": [],
   "source": [
    "def label_text_extraction():\n",
    "    image_path = 'images/labels/combined_image.png'\n",
    "    \n",
    "    clothing_picture = {\n",
    "        'mime_type': 'image/png',\n",
    "        'data': Path(image_path).read_bytes()\n",
    "    }\n",
    "\n",
    "    prompt = \"\"\" Read through the text in the image, and structure your response as a JSON object with the following keys. Return only English text and don't break lines within your responses:\n",
    "    \n",
    "    * brand: Analyze the provided image of a clothing label. Identify and extract the brand name from the label. Must be composed only of alphanumeric characters. The brand name is usually a prominent and distinctive word or logo, often displayed in a larger font than other text, but not necessarily. It may include a unique font or design. If unclear, return an empty value. \n",
    "    * materials: The types and percentages of fibers used in the fabric. Make a key-value pairing with the type of material use for this item and its percentage as value. If unclear, return an empty value. \n",
    "    * care_instructions: Analyze the provided image of a clothing label and extract detailed care instructions for the garment, particularly numerical temperature information in Celsius. Include guidelines on how to wash, dry, iron, and maintain the garment to ensure its longevity and quality. Look for specific temperature recommendations for washing and ironing if available. Return a structured response with key-value pairs where the keys represent the care instruction categories ('washing', 'bleaching', 'drying', 'ironing', 'dry_clean') and the values contain the corresponding detailed instructions. If information is unclear, return an empty value.\n",
    "    * size: The size of the garment which can be indicated by letters (e.g., S, M, L, XL), or a nationality abbreviation (e.g., UK, US, EU, MX) followed by a corresponding numerical size (e.g., UK 8, US 10, EU 36). Return a list with all relevant information, ensuring that it strictly follows the previously specified format. Trade any dot (or any other character) for a space to adjust relevant information to the previous formatting (e.g. 'M', 'UK 8'). If unclear, return an empty value. \n",
    "    * country_origin: In what country the garment was made. Usually preceded by a text 'Made in ...'. If not explicit, return an empty value.\n",
    "    \"\"\"\n",
    "    \n",
    "    response = genai_model.generate_content([prompt, clothing_picture])\n",
    "    \n",
    "    return dummy_json_parser(response.text)"
   ]
  },
  {
   "cell_type": "code",
   "execution_count": 126,
   "metadata": {},
   "outputs": [],
   "source": [
    "def cloth_description(label_json):\n",
    "    \"\"\"\n",
    "    To do: Create a grid of every perspective of the clothing item to analyze. \n",
    "    So far, this is for a single image. \n",
    "    \"\"\"\n",
    "    \n",
    "    image_path = 'images/clothes/dirty_shirt.png'\n",
    "    \n",
    "    clothing_picture = {\n",
    "        'mime_type': 'image/png',\n",
    "        'data': Path(image_path).read_bytes()\n",
    "    }\n",
    "\n",
    "    prompt = f\"\"\" Structure the image description as a JSON object with the following keys:\n",
    "    \n",
    "    * clothing_type: Return a single value categorizing the clothing type. \n",
    "    * usage_suggestions: Analyze the provided image of a clothing label and determine the top 5 most common usages for the clothing item. Ignore any damage, focus on the clothing item. Consider the style, material, and any other relevant details to suggest appropriate contexts in which this item might be worn. Possible usages might include `casual`, `weddings`, `business formal`, `sports`, `outdoor activities`, `beachwear`, `night out`, etc. Return a list of the most relevant and appropriate usage contexts for this item. If unclear, return an empty value.\n",
    "    * audience: State the most likely fashion audience. Choose between 'Men', 'Women', 'Kids', or 'Gender Neutral'.\n",
    "    * colors: Return a dictionary with a 'primary_color', a list of 'secondary_colors', and a list of where the locations for the secondary colors. If there are no secondary colors just return an empty field.\n",
    "    * practical_description: Using the information from this JSON object (provided within []), and additional data (requested as a Python dictionary command for the label_json variable), redact a sentence with great syntax and congruency. Specifically, follow this structure: ```[Clothing Item] size {label_json['size'][0]} for ['audience'] by {label_json['brand']} is primarily [primary_color] with [secondary_colors] accents on [Secondary colors locations]. Made of {', '.join(f'{value} {key}' for key, value in label_json['materials'].items())}```. Ensure correct syntax and formatting without double spaces or non-alphanumeric characters.\n",
    "    * sales_pitch: Analyze the clothing labels and describe the clothing item in a compelling sales pitch. Highlight key features, benefits, and unique selling points without using phrases like `our item` or `our product`. Consider aspects such as material, design, comfort, versatility, and any special features or certifications. Appeal to potential buyers by emphasizing why this item would be a valuable addition to their wardrobe. Mention potential usages, quality, and standout characteristics. If information is unclear, create a general appealing description based on typical clothing attributes.\n",
    "    * damage: Make a list with one or multiple visible damages relative to if the item were new. Choose between 'Rips, Tears, Holes', 'Stained', 'Fading', 'Missing Buttons', 'Loose Threads' one or more. If there is no noticeable damage, just return an empty field.\n",
    "    * explanation: Redact a short explanation structured as a nested dictionary for the reason behind each of the previous labelings. One sentence for each[clothing_type] \n",
    "    \"\"\"\n",
    "    \n",
    "    response = genai_model.generate_content([prompt, clothing_picture])\n",
    "    \n",
    "    return dummy_json_parser(response.text)"
   ]
  },
  {
   "cell_type": "markdown",
   "metadata": {},
   "source": [
    "# Test"
   ]
  },
  {
   "cell_type": "code",
   "execution_count": 83,
   "metadata": {},
   "outputs": [],
   "source": [
    "# TEST\n",
    "googleai_api_key = pd.read_csv(r'/home/cesar/Coding/GoogleAI-API-key.txt', header=None)[0][0]\n",
    "google_api_test(googleai_api_key)\n",
    "genai_model = genai.GenerativeModel(model_name='models/gemini-1.5-pro-latest')"
   ]
  },
  {
   "cell_type": "code",
   "execution_count": 13,
   "metadata": {},
   "outputs": [],
   "source": [
    "user_name = \"César Alejandro Pozo Luyo\""
   ]
  },
  {
   "cell_type": "code",
   "execution_count": 15,
   "metadata": {},
   "outputs": [],
   "source": [
    "folder_path = 'images/labels/'\n",
    "output_path = folder_path + 'combined_image.png'\n",
    "concatenate_images_in_folder_vertically(folder_path, output_path)"
   ]
  },
  {
   "cell_type": "code",
   "execution_count": 62,
   "metadata": {},
   "outputs": [],
   "source": [
    "label_json = label_text_extraction()"
   ]
  },
  {
   "cell_type": "code",
   "execution_count": 127,
   "metadata": {},
   "outputs": [],
   "source": [
    "# Note: An edit must be done to process an image grid\n",
    "clothes_json = cloth_description(label_json)"
   ]
  },
  {
   "cell_type": "code",
   "execution_count": 128,
   "metadata": {},
   "outputs": [
    {
     "data": {
      "text/plain": [
       "{'Job_ID': '2405291626-1717021582-CAPL',\n",
       " 'brand': 'Sfera',\n",
       " 'materials': {'cotton': '100%'},\n",
       " 'care_instructions': {'washing': 'Wash maximum 30°C - Mild process',\n",
       "  'bleaching': 'Do not bleach',\n",
       "  'drying': 'Do not tumble dry',\n",
       "  'ironing': 'Iron at maximum sole plate temperature of 110°C - Iron inside out',\n",
       "  'dry_clean': 'Do not dry clean'},\n",
       " 'size': ['M', 'MEX 38'],\n",
       " 'country_origin': 'India',\n",
       " 'clothing_type': 'T-Shirt',\n",
       " 'usage_suggestions': ['casual'],\n",
       " 'audience': 'Kids',\n",
       " 'colors': {'primary_color': 'white',\n",
       "  'secondary_colors': ['red'],\n",
       "  'secondary_colors_location': ['neckline', 'sleeves']},\n",
       " 'practical_description': 'T-Shirt size M for Kids by Sfera is primarily white with red accents on neckline and sleeves. Made of 100% cotton.',\n",
       " 'sales_pitch': 'This classic white T-shirt is made from 100% breathable cotton, ensuring comfort and durability. Its timeless design features a playful contrast red trim on the neckline and sleeves, adding a touch of style to a versatile wardrobe staple. Perfect for everyday wear, this T-shirt can be easily dressed up or down.',\n",
       " 'damage': ['Stained'],\n",
       " 'explanation': {'clothing_type': 'The garment possesses the quintessential characteristics of a T-shirt, such as short sleeves and a round neckline, making it easily identifiable.',\n",
       "  'usage_suggestions': 'The simplistic design and comfortable material of the T-shirt suggest its suitability for casual settings.',\n",
       "  'audience': \"The size M, typically associated with children's clothing, indicates that the intended audience for this garment is kids.\",\n",
       "  'colors': 'While dirt smudges are present, the main color of the garment, not considering the stains, is white with red details.',\n",
       "  'practical_description': 'This section combines the previously extracted information to formulate a concise and informative description of the T-shirt.',\n",
       "  'sales_pitch': 'This part aims to provide an appealing description of the T-shirt, highlighting its positive attributes to attract potential buyers.',\n",
       "  'damage': 'The T-shirt exhibits prominent stains, indicating usage and potential wear and tear.'}}"
      ]
     },
     "execution_count": 128,
     "metadata": {},
     "output_type": "execute_result"
    }
   ],
   "source": [
    "job_id = create_job_id(user_name)\n",
    "main_json = {\"Job_ID\": job_id}\n",
    "main_json.update(label_json) \n",
    "main_json.update(clothes_json) \n",
    "main_json"
   ]
  },
  {
   "cell_type": "code",
   "execution_count": null,
   "metadata": {},
   "outputs": [],
   "source": []
  }
 ],
 "metadata": {
  "kernelspec": {
   "display_name": "ai_apps",
   "language": "python",
   "name": "python3"
  },
  "language_info": {
   "codemirror_mode": {
    "name": "ipython",
    "version": 3
   },
   "file_extension": ".py",
   "mimetype": "text/x-python",
   "name": "python",
   "nbconvert_exporter": "python",
   "pygments_lexer": "ipython3",
   "version": "3.11.8"
  }
 },
 "nbformat": 4,
 "nbformat_minor": 2
}
